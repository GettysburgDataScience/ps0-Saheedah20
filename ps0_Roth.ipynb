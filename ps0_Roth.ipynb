{
 "cells": [
  {
   "cell_type": "markdown",
   "metadata": {},
   "source": [
    "Saheedah Yusuf\n",
    " - collaborator 1\n",
    " - collaborator 2"
   ]
  },
  {
   "cell_type": "markdown",
   "metadata": {
    "vscode": {
     "languageId": "plaintext"
    }
   },
   "source": [
    "# Problem Set 0\n",
    "\n",
    "Congrats! You've successfully cloned the our first warm-up problem set.\n",
    "\n",
    "This problem set will be collected (so you get practice committing and pushing your GitHub repository), but it will not be graded as an assignment.\n",
    "\n",
    "The purpose of this assignment is to familiarize ourselves with the Visual Studio Code IDE and to refresh some coding skills that you may not have exercised in a while. Let's go!"
   ]
  },
  {
   "cell_type": "markdown",
   "metadata": {},
   "source": [
    "## The coding part\n",
    "\n",
    "First, let's import some of our favorite packages: numpy, pandas, and matplotlib.pyplot"
   ]
  },
  {
   "cell_type": "code",
   "execution_count": 1,
   "metadata": {},
   "outputs": [],
   "source": [
    "import numpy as np\n",
    "import matplotlib.pyplot as plt\n"
   ]
  },
  {
   "cell_type": "markdown",
   "metadata": {},
   "source": [
    "## Let's start coding\n",
    "\n",
    "We'll reserve this next cell for some functions we'll write."
   ]
  },
  {
   "cell_type": "code",
   "execution_count": 2,
   "metadata": {},
   "outputs": [],
   "source": [
    "def line(m=0, b=0):\n",
    "    return lambda x: m*x + b\n",
    "\n",
    "def residuals(model, x, y):\n",
    "    return y - model(x)\n",
    "\n",
    "def plot_model(model, x, ax = None):\n",
    "    if ax is None:\n",
    "        fig, ax = plt.subplots(1,1,figsize=(10,10))\n",
    "    else:\n",
    "        fig = ax.get_figure()\n",
    "    \n",
    "    h = ax.plot(x, model(x), \n",
    "            color = 'teal', linestyle = ':',\n",
    "            label = 'Model')\n",
    "    return h\n",
    "\n",
    "def residuals_for_plot(model, x, y):\n",
    "    return np.vstack([x,x]), np.vstack([y, model(x)])\n",
    "\n",
    "def plot_residuals(model, x, y, ax = None):\n",
    "    if ax is None:\n",
    "        fig, ax = plt.subplots(1,1,figsize(10,10))\n",
    "    # else:\n",
    "    #     fig = ax.get_figure()\n",
    "    \n",
    "    X, Y = residuals_for_plot(model, x, y)\n",
    "    \n",
    "    h = ax.plot(X, Y, color = 'salmon', label = 'Residuals')\n",
    "    return h\n",
    "\n",
    "def rmse(model, x, y):\n",
    "    return np.sqrt(np.mean(residuals(model, x, y)**2))"
   ]
  },
  {
   "cell_type": "markdown",
   "metadata": {},
   "source": [
    "First, let's fabricate some data.\n",
    "\n",
    " - For our x-values, let's generate some 20 random samples in the range (-5,5)\n",
    " - For our y-values, we'll have them be a linear (affine actually) function of x, with some noise. Use slope of 0.8 and y-intercept of 2.3 and add normally distributed noise.\n",
    "We'll generate some random samples "
   ]
  },
  {
   "cell_type": "code",
   "execution_count": 4,
   "metadata": {},
   "outputs": [],
   "source": [
    "np.random.seed(2025) \n",
    "\n",
    "'''\n",
    "Random isn't really random, it's pseudo-random. \n",
    "This sets the seed for the random number generator so that we can get the same results every time we run the code.\n",
    "'''\n",
    "\n",
    "num_data = 20 # how many data points we want\n",
    "\n",
    "x = np.sort(10*np.random.rand(num_data))-5\n",
    "y = 0.8*x + 2.3 + np.random.randn(num_data)"
   ]
  },
  {
   "cell_type": "markdown",
   "metadata": {},
   "source": [
    "## Plotting and writing functions\n",
    "\n",
    "First, let's plot the data.\n",
    "\n",
    "We'll also want to plot:\n",
    " - A line with slope and intercept of our choosing.\n",
    " - residuals (distances from a line to the data)\n",
    " - Calculate the RMSE error\n",
    "\n",
    " $ RMSE = \\sqrt{\\frac{1}{n}\\sum^{n}_{j=1} (y_j - f(x_j))^2}$"
   ]
  },
  {
   "cell_type": "code",
   "execution_count": 6,
   "metadata": {},
   "outputs": [
    {
     "data": {
      "image/png": "[encoded data removed]",
      "text/plain": [
       "<Figure size 600x600 with 1 Axes>"
      ]
     },
     "metadata": {},
     "output_type": "display_data"
    }
   ],
   "source": [
    "# Create a figure and axis object\n",
    "fig, ax = plt.subplots(1,1, figsize = (6,6))\n",
    "\n",
    "# Plot the data points\n",
    "ax.plot(x, y, '.', label = 'Data')\n",
    "ax.set_xlim(-6, 6)\n",
    "ax.set_ylim(-6, 6)\n",
    "ax.set_aspect('equal')\n",
    "\n",
    "# Define the slope for the model\n",
    "a = 0.8\n",
    "model = line(m=a)\n",
    "\n",
    "# Plot the residuals and the model line\n",
    "line_res = plot_residuals(model, x, y, ax = ax)\n",
    "line_mod = plot_model(model, x, ax = ax)\n",
    "\n",
    "# Display the RMSE on the plot\n",
    "ax.text(-5, 5, f'RMSE: {rmse(model, x, y):.2f}')\n",
    "\n",
    "# Create a legend\n",
    "handles, labels = ax.get_legend_handles_labels()\n",
    "legend_dict = dict(zip(labels, handles))  \n",
    "ax.legend(legend_dict.values(), legend_dict.keys(), loc = 'lower right')\n",
    "\n",
    "# Show the plot\n",
    "plt.show()\n",
    "ax.plot(x, y, '.', label = 'Data')\n",
    "ax.set_xlim(-6, 6)\n",
    "ax.set_ylim(-6, 6)\n",
    "\n",
    "ax.set_aspect('equal')\n",
    "\n",
    "\n",
    "a = 0.8\n",
    "model = line(m=a)\n",
    "\n",
    "line_res = plot_residuals(model, x, y, ax = ax)\n",
    "line_mod = plot_model(model, x, ax = ax)\n",
    "\n",
    "ax.text(-5, 5, f'RMSE: {rmse(model, x, y):.2f}')\n",
    "\n",
    "handles, labels = ax.get_legend_handles_labels()\n",
    "legend_dict = dict(zip(labels, handles))  \n",
    "ax.legend(legend_dict.values(), legend_dict.keys(), loc = 'lower right')\n",
    "\n",
    "\n",
    "plt.show()\n"
   ]
  },
  {
   "cell_type": "markdown",
   "metadata": {},
   "source": [
    "## Trying different models\n",
    "\n",
    "We'll write a loop to calculate the RMSE for lines (models) of different slopes."
   ]
  },
  {
   "cell_type": "code",
   "execution_count": 8,
   "metadata": {},
   "outputs": [
    {
     "data": {
      "image/png": "[encoded data removed]",
      "text/plain": [
       "<Figure size 1200x600 with 1 Axes>"
      ]
     },
     "metadata": {},
     "output_type": "display_data"
    }
   ],
   "source": [
    "A = np.linspace(-5, 5, 1000)\n",
    "C = np.zeros_like(A)\n",
    "\n",
    "for k, a in enumerate(A):\n",
    "    model = line(m=a)\n",
    "    C[k] = rmse(model, x, y)\n",
    " \n",
    "fig, ax = plt.subplots(1,1, figsize = (12,6))   \n",
    "ax.bar(A, C)\n",
    "ax.set_xlabel('Slope')\n",
    "ax.set_ylabel('RMSE')\n",
    "plt.show()"
   ]
  },
  {
   "cell_type": "markdown",
   "metadata": {},
   "source": [
    "### Can our model be improved?\n",
    "\n",
    "Why is our best fit model not that good?"
   ]
  },
  {
   "cell_type": "code",
   "execution_count": null,
   "metadata": {},
   "outputs": [],
   "source": []
  }
 ],
 "metadata": {
  "kernelspec": {
   "display_name": "base",
   "language": "python",
   "name": "python3"
  },
  "language_info": {
   "codemirror_mode": {
    "name": "ipython",
    "version": 3
   },
   "file_extension": ".py",
   "mimetype": "text/x-python",
   "name": "python",
   "nbconvert_exporter": "python",
   "pygments_lexer": "ipython3",
   "version": "3.12.7"
  }
 },
 "nbformat": 4,
 "nbformat_minor": 2
}
